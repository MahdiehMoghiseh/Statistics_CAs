{
 "cells": [
  {
   "cell_type": "code",
   "execution_count": 77,
   "id": "640b4b56",
   "metadata": {},
   "outputs": [],
   "source": [
    "import numpy as np\n",
    "import pandas as pd\n",
    "import matplotlib.pyplot as plt\n",
    "import scipy.stats\n",
    "from math import sqrt"
   ]
  },
  {
   "cell_type": "code",
   "execution_count": 78,
   "id": "e494889c",
   "metadata": {},
   "outputs": [
    {
     "data": {
      "text/html": [
       "<div>\n",
       "<style scoped>\n",
       "    .dataframe tbody tr th:only-of-type {\n",
       "        vertical-align: middle;\n",
       "    }\n",
       "\n",
       "    .dataframe tbody tr th {\n",
       "        vertical-align: top;\n",
       "    }\n",
       "\n",
       "    .dataframe thead th {\n",
       "        text-align: right;\n",
       "    }\n",
       "</style>\n",
       "<table border=\"1\" class=\"dataframe\">\n",
       "  <thead>\n",
       "    <tr style=\"text-align: right;\">\n",
       "      <th></th>\n",
       "      <th>minority</th>\n",
       "      <th>age</th>\n",
       "      <th>gender</th>\n",
       "      <th>credits</th>\n",
       "      <th>beauty</th>\n",
       "      <th>eval</th>\n",
       "      <th>division</th>\n",
       "      <th>native</th>\n",
       "      <th>tenure</th>\n",
       "      <th>students</th>\n",
       "      <th>allstudents</th>\n",
       "      <th>prof</th>\n",
       "      <th>PrimaryLast</th>\n",
       "      <th>vismin</th>\n",
       "      <th>female</th>\n",
       "      <th>single_credit</th>\n",
       "      <th>upper_division</th>\n",
       "      <th>English_speaker</th>\n",
       "      <th>tenured_prof</th>\n",
       "    </tr>\n",
       "  </thead>\n",
       "  <tbody>\n",
       "    <tr>\n",
       "      <th>0</th>\n",
       "      <td>yes</td>\n",
       "      <td>36</td>\n",
       "      <td>female</td>\n",
       "      <td>more</td>\n",
       "      <td>0.289916</td>\n",
       "      <td>4.3</td>\n",
       "      <td>upper</td>\n",
       "      <td>yes</td>\n",
       "      <td>yes</td>\n",
       "      <td>24</td>\n",
       "      <td>43</td>\n",
       "      <td>1</td>\n",
       "      <td>0</td>\n",
       "      <td>1</td>\n",
       "      <td>1</td>\n",
       "      <td>0</td>\n",
       "      <td>1</td>\n",
       "      <td>1</td>\n",
       "      <td>1</td>\n",
       "    </tr>\n",
       "    <tr>\n",
       "      <th>1</th>\n",
       "      <td>yes</td>\n",
       "      <td>36</td>\n",
       "      <td>female</td>\n",
       "      <td>more</td>\n",
       "      <td>0.289916</td>\n",
       "      <td>3.7</td>\n",
       "      <td>upper</td>\n",
       "      <td>yes</td>\n",
       "      <td>yes</td>\n",
       "      <td>86</td>\n",
       "      <td>125</td>\n",
       "      <td>1</td>\n",
       "      <td>0</td>\n",
       "      <td>1</td>\n",
       "      <td>1</td>\n",
       "      <td>0</td>\n",
       "      <td>1</td>\n",
       "      <td>1</td>\n",
       "      <td>1</td>\n",
       "    </tr>\n",
       "    <tr>\n",
       "      <th>2</th>\n",
       "      <td>yes</td>\n",
       "      <td>36</td>\n",
       "      <td>female</td>\n",
       "      <td>more</td>\n",
       "      <td>0.289916</td>\n",
       "      <td>3.6</td>\n",
       "      <td>upper</td>\n",
       "      <td>yes</td>\n",
       "      <td>yes</td>\n",
       "      <td>76</td>\n",
       "      <td>125</td>\n",
       "      <td>1</td>\n",
       "      <td>0</td>\n",
       "      <td>1</td>\n",
       "      <td>1</td>\n",
       "      <td>0</td>\n",
       "      <td>1</td>\n",
       "      <td>1</td>\n",
       "      <td>1</td>\n",
       "    </tr>\n",
       "    <tr>\n",
       "      <th>3</th>\n",
       "      <td>yes</td>\n",
       "      <td>36</td>\n",
       "      <td>female</td>\n",
       "      <td>more</td>\n",
       "      <td>0.289916</td>\n",
       "      <td>4.4</td>\n",
       "      <td>upper</td>\n",
       "      <td>yes</td>\n",
       "      <td>yes</td>\n",
       "      <td>77</td>\n",
       "      <td>123</td>\n",
       "      <td>1</td>\n",
       "      <td>1</td>\n",
       "      <td>1</td>\n",
       "      <td>1</td>\n",
       "      <td>0</td>\n",
       "      <td>1</td>\n",
       "      <td>1</td>\n",
       "      <td>1</td>\n",
       "    </tr>\n",
       "    <tr>\n",
       "      <th>4</th>\n",
       "      <td>no</td>\n",
       "      <td>59</td>\n",
       "      <td>male</td>\n",
       "      <td>more</td>\n",
       "      <td>-0.737732</td>\n",
       "      <td>4.5</td>\n",
       "      <td>upper</td>\n",
       "      <td>yes</td>\n",
       "      <td>yes</td>\n",
       "      <td>17</td>\n",
       "      <td>20</td>\n",
       "      <td>2</td>\n",
       "      <td>0</td>\n",
       "      <td>0</td>\n",
       "      <td>0</td>\n",
       "      <td>0</td>\n",
       "      <td>1</td>\n",
       "      <td>1</td>\n",
       "      <td>1</td>\n",
       "    </tr>\n",
       "  </tbody>\n",
       "</table>\n",
       "</div>"
      ],
      "text/plain": [
       "  minority  age  gender credits    beauty  eval division native tenure  \\\n",
       "0      yes   36  female    more  0.289916   4.3    upper    yes    yes   \n",
       "1      yes   36  female    more  0.289916   3.7    upper    yes    yes   \n",
       "2      yes   36  female    more  0.289916   3.6    upper    yes    yes   \n",
       "3      yes   36  female    more  0.289916   4.4    upper    yes    yes   \n",
       "4       no   59    male    more -0.737732   4.5    upper    yes    yes   \n",
       "\n",
       "   students  allstudents  prof  PrimaryLast  vismin  female  single_credit  \\\n",
       "0        24           43     1            0       1       1              0   \n",
       "1        86          125     1            0       1       1              0   \n",
       "2        76          125     1            0       1       1              0   \n",
       "3        77          123     1            1       1       1              0   \n",
       "4        17           20     2            0       0       0              0   \n",
       "\n",
       "   upper_division  English_speaker  tenured_prof  \n",
       "0               1                1             1  \n",
       "1               1                1             1  \n",
       "2               1                1             1  \n",
       "3               1                1             1  \n",
       "4               1                1             1  "
      ]
     },
     "execution_count": 78,
     "metadata": {},
     "output_type": "execute_result"
    }
   ],
   "source": [
    "PATH = \"./file.csv\"\n",
    "dataFrame = pd.read_csv(PATH)\n",
    "dataFrame = dataFrame.drop(['Unnamed: 0'], axis=1)\n",
    "dataFrame.head()"
   ]
  },
  {
   "cell_type": "code",
   "execution_count": 79,
   "id": "2159dbe8",
   "metadata": {},
   "outputs": [
    {
     "data": {
      "text/plain": [
       "(463, 19)"
      ]
     },
     "execution_count": 79,
     "metadata": {},
     "output_type": "execute_result"
    }
   ],
   "source": [
    "dataFrame.shape"
   ]
  },
  {
   "cell_type": "code",
   "execution_count": 80,
   "id": "4dc1522a",
   "metadata": {},
   "outputs": [
    {
     "data": {
      "image/png": "[encoded data removed]",
      "text/plain": [
       "<Figure size 432x288 with 1 Axes>"
      ]
     },
     "metadata": {
      "needs_background": "light"
     },
     "output_type": "display_data"
    }
   ],
   "source": [
    "from scipy.stats import norm\n",
    "\n",
    "# Plot between -6 and 6 with 0.1 steps.\n",
    "x_axis = np.arange(-6, 6, 0.1)\n",
    "\n",
    "# Mean = 0, SD = 1.5\n",
    "plt.plot(x_axis, norm.pdf(x_axis, 0, 1.5))\n",
    "plt.show()"
   ]
  },
  {
   "cell_type": "code",
   "execution_count": 81,
   "id": "935e7296",
   "metadata": {},
   "outputs": [
    {
     "name": "stdout",
     "output_type": "stream",
     "text": [
      "3.998 0.555\n"
     ]
    }
   ],
   "source": [
    "eval_mean = round(dataFrame['eval'].mean(), 3)\n",
    "eval_sd = round(dataFrame['eval'].std(), 3)\n",
    "print(eval_mean, eval_sd)"
   ]
  },
  {
   "cell_type": "code",
   "execution_count": 82,
   "id": "7fdc5d51",
   "metadata": {},
   "outputs": [
    {
     "name": "stdout",
     "output_type": "stream",
     "text": [
      "0.49856237327221\n"
     ]
    }
   ],
   "source": [
    "prob0 = scipy.stats.norm.cdf((4 - eval_mean)/eval_sd)\n",
    "print(1 - prob0)"
   ]
  },
  {
   "cell_type": "markdown",
   "id": "2327bfbd",
   "metadata": {},
   "source": [
    "Question 1: what is the probability of receiving an evaluation score greater than 3.5 and less than 4.2?"
   ]
  },
  {
   "cell_type": "code",
   "execution_count": 84,
   "id": "5d556ebf",
   "metadata": {},
   "outputs": [
    {
     "name": "stdout",
     "output_type": "stream",
     "text": [
      "0.45727739131753053\n"
     ]
    }
   ],
   "source": [
    "prob1 = scipy.stats.norm.cdf((3.5 - eval_mean)/eval_sd)\n",
    "prob2 = scipy.stats.norm.cdf((eval_mean - 4.2)/eval_sd)\n",
    "print(1 - (prob1+prob2))"
   ]
  },
  {
   "cell_type": "markdown",
   "id": "4c77de25",
   "metadata": {},
   "source": [
    "Question 2: what is the probability of receiving an evaluation score greater than 3.3?"
   ]
  },
  {
   "cell_type": "code",
   "execution_count": 85,
   "id": "b5920ede",
   "metadata": {},
   "outputs": [
    {
     "name": "stdout",
     "output_type": "stream",
     "text": [
      "0.8957422041794154\n"
     ]
    }
   ],
   "source": [
    "prob3 = scipy.stats.norm.cdf((3.3 - eval_mean)/eval_sd)\n",
    "print(1 - prob3)"
   ]
  },
  {
   "cell_type": "markdown",
   "id": "798f193d",
   "metadata": {},
   "source": [
    "Question 3: what is the probability of receiving an evaluation score between 2 and 3?"
   ]
  },
  {
   "cell_type": "code",
   "execution_count": 86,
   "id": "d162ebab",
   "metadata": {},
   "outputs": [
    {
     "name": "stdout",
     "output_type": "stream",
     "text": [
      "0.035913693912466016\n"
     ]
    }
   ],
   "source": [
    "prob4 = scipy.stats.norm.cdf((eval_mean - 3)/eval_sd)\n",
    "prob5 = scipy.stats.norm.cdf((2 - eval_mean)/eval_sd)\n",
    "print(1-(prob4+prob5))"
   ]
  },
  {
   "cell_type": "markdown",
   "id": "5b41ba99",
   "metadata": {},
   "source": [
    "Question 4: To test the hypothesis that sleeping for at least 8 hours makes one smarter, 12 people who have slept for at least 8 hours every day for the past one year have their IQ tested.\n",
    "\n",
    "Here are the results: 116, 111, 101, 120, 99, 94, 106, 115, 107, 101, 110, 92\n",
    "\n",
    "Test using the following hypotheses: H0: μ = 100 or Ha: μ > 100"
   ]
  },
  {
   "cell_type": "code",
   "execution_count": 87,
   "id": "ba816aaa",
   "metadata": {},
   "outputs": [
    {
     "name": "stdout",
     "output_type": "stream",
     "text": [
      "Z is : 2.4580394711961078\n"
     ]
    }
   ],
   "source": [
    "# using formula\n",
    "result = [116, 111, 101, 120, 99, 94, 106, 115, 107, 101, 110, 92]\n",
    "z = (np.mean(result)-100)/(np.std(result)/sqrt(12))\n",
    "print(\"Z is : \" + str(z))"
   ]
  },
  {
   "cell_type": "markdown",
   "id": "92515147",
   "metadata": {},
   "source": [
    "Question 5: Consider a computer system with Poisson job-arrival stream at an average of 2 per minute. Determine the probability that in any one-minute interval there will be\n",
    "\n",
    "1) 0 jobs;\n",
    "\n",
    "2) exactly 2 jobs;\n",
    "\n",
    "3) at most 3 arrivals."
   ]
  },
  {
   "cell_type": "code",
   "execution_count": 89,
   "id": "ca25fdcd",
   "metadata": {},
   "outputs": [
    {
     "name": "stdout",
     "output_type": "stream",
     "text": [
      "0 jobs : 0.1353352832366127\n",
      "exactly 2 jobs : 0.2706705664732254\n",
      "at most 3 arrivals : 0.857123460498547\n"
     ]
    }
   ],
   "source": [
    "from scipy.stats import poisson\n",
    "# 0 jobs\n",
    "p1 = poisson.pmf(0, 2)\n",
    "print(\"0 jobs : \"+str(p1))\n",
    "# exactly 2 jobs\n",
    "p2 = poisson.pmf(2, 2)\n",
    "print(\"exactly 2 jobs : \"+str(p2))\n",
    "# at most 3 arrivals\n",
    "p3 = poisson.cdf(3, 2)\n",
    "print(\"at most 3 arrivals : \"+str(p3))"
   ]
  },
  {
   "cell_type": "code",
   "execution_count": null,
   "id": "7a0f7e0d",
   "metadata": {},
   "outputs": [],
   "source": []
  }
 ],
 "metadata": {
  "kernelspec": {
   "display_name": "Python 3 (ipykernel)",
   "language": "python",
   "name": "python3"
  },
  "language_info": {
   "codemirror_mode": {
    "name": "ipython",
    "version": 3
   },
   "file_extension": ".py",
   "mimetype": "text/x-python",
   "name": "python",
   "nbconvert_exporter": "python",
   "pygments_lexer": "ipython3",
   "version": "3.9.4"
  }
 },
 "nbformat": 4,
 "nbformat_minor": 5
}
